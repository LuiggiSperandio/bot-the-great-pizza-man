{
 "cells": [
  {
   "cell_type": "code",
   "execution_count": 8,
   "metadata": {},
   "outputs": [],
   "source": [
    "meio = (940, 836)\n",
    "a = [\n",
    "    (986, 778),\n",
    "    (988, 674),\n",
    "    (1073, 721),\n",
    "    (1123, 807),\n",
    "    (1030, 857),\n",
    "    (1126, 904),\n",
    "    (1073, 990),\n",
    "    (990, 940),\n",
    "    (986, 1040),\n",
    "    (893, 1038),\n",
    "    (893, 937),\n",
    "    (757, 902),\n",
    "    (757, 808),\n",
    "    (808, 719),\n",
    "    (894, 774),\n",
    "]"
   ]
  },
  {
   "cell_type": "code",
   "execution_count": 9,
   "metadata": {},
   "outputs": [
    {
     "name": "stdout",
     "output_type": "stream",
     "text": [
      "[(46, -58), (48, -162), (133, -115), (183, -29), (90, 21), (186, 68), (133, 154), (50, 104), (46, 204), (-47, 202), (-47, 101), (-183, 66), (-183, -28), (-132, -117), (-46, -62)]\n"
     ]
    }
   ],
   "source": [
    "b=[]\n",
    "for item in a:\n",
    "    x_offset = item[0] - meio[0]\n",
    "    y_offset = item[1] - meio[1]\n",
    "    b.append((x_offset, y_offset))\n",
    "print(b)"
   ]
  },
  {
   "cell_type": "code",
   "execution_count": null,
   "metadata": {},
   "outputs": [],
   "source": []
  }
 ],
 "metadata": {
  "kernelspec": {
   "display_name": "base",
   "language": "python",
   "name": "python3"
  },
  "language_info": {
   "codemirror_mode": {
    "name": "ipython",
    "version": 3
   },
   "file_extension": ".py",
   "mimetype": "text/x-python",
   "name": "python",
   "nbconvert_exporter": "python",
   "pygments_lexer": "ipython3",
   "version": "3.12.4"
  }
 },
 "nbformat": 4,
 "nbformat_minor": 2
}
