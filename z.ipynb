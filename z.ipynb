{
 "cells": [
  {
   "cell_type": "code",
   "execution_count": 16,
   "metadata": {},
   "outputs": [
    {
     "data": {
      "text/plain": [
       "18"
      ]
     },
     "execution_count": 16,
     "metadata": {},
     "output_type": "execute_result"
    }
   ],
   "source": [
    "meio = (1192, 836)\n",
    "a = [\n",
    "    (1240, 773),\n",
    "    (1245, 673),\n",
    "    (1331, 722),\n",
    "    (1378, 808),\n",
    "    (1286, 854),\n",
    "    (1376, 907),\n",
    "    (1323, 990),\n",
    "    (1241, 937),\n",
    "    (1240, 1036),\n",
    "    (1141, 1037),\n",
    "    (1145, 934),\n",
    "    (1057, 988),\n",
    "    (1013, 907),\n",
    "    (1098, 856),\n",
    "    (1013, 807),\n",
    "    (1064, 722),\n",
    "    (1147, 772),\n",
    "    (1143, 678), \n",
    "]\n",
    "len(a)"
   ]
  },
  {
   "cell_type": "code",
   "execution_count": 17,
   "metadata": {},
   "outputs": [
    {
     "name": "stdout",
     "output_type": "stream",
     "text": [
      "[(48, -63), (53, -163), (139, -114), (186, -28), (94, 18), (184, 71), (131, 154), (49, 101), (48, 200), (-51, 201), (-47, 98), (-135, 152), (-179, 71), (-94, 20), (-179, -29), (-128, -114), (-45, -64), (-49, -158)]\n"
     ]
    }
   ],
   "source": [
    "b=[]\n",
    "for item in a:\n",
    "    x_offset = item[0] - meio[0]\n",
    "    y_offset = item[1] - meio[1]\n",
    "    b.append((x_offset, y_offset))\n",
    "print(b)"
   ]
  },
  {
   "cell_type": "code",
   "execution_count": 19,
   "metadata": {},
   "outputs": [
    {
     "name": "stdout",
     "output_type": "stream",
     "text": [
      "48 -63\n",
      "53 -163\n",
      "139 -114\n",
      "186 -28\n",
      "94 18\n",
      "184 71\n",
      "131 154\n",
      "49 101\n",
      "48 200\n",
      "-51 201\n",
      "-47 98\n",
      "-135 152\n",
      "-179 71\n",
      "-94 20\n",
      "-179 -29\n",
      "-128 -114\n",
      "-45 -64\n",
      "-49 -158\n"
     ]
    }
   ],
   "source": [
    "offset =[(48, -63), (53, -163), (139, -114), (186, -28), (94, 18), (184, 71), (131, 154), (49, 101), (48, 200), (-51, 201), (-47, 98), (-135, 152), (-179, 71), (-94, 20), (-179, -29), (-128, -114), (-45, -64), (-49, -158)]\n",
    "for item in offset:\n",
    "    print(item[0], item[1])"
   ]
  },
  {
   "cell_type": "code",
   "execution_count": 22,
   "metadata": {},
   "outputs": [
    {
     "data": {
      "text/plain": [
       "8"
      ]
     },
     "execution_count": 22,
     "metadata": {},
     "output_type": "execute_result"
    }
   ],
   "source": [
    "len(offset[10:])"
   ]
  },
  {
   "cell_type": "code",
   "execution_count": 1,
   "metadata": {},
   "outputs": [
    {
     "data": {
      "text/plain": [
       "18"
      ]
     },
     "execution_count": 1,
     "metadata": {},
     "output_type": "execute_result"
    }
   ],
   "source": [
    "meio = (1010, 1021)\n",
    "a = [\n",
    "    (1046, 967),\n",
    "    (1044, 894),\n",
    "    (1106, 931),\n",
    "    (1139, 990),\n",
    "    (1077, 1023),\n",
    "    (1141, 1059),\n",
    "    (1102, 1115),\n",
    "    (1044, 1080),\n",
    "    (1046, 1149),\n",
    "    (978, 1151),\n",
    "    (979, 1081),\n",
    "    (921, 1118),\n",
    "    (883, 1056),\n",
    "    (945, 1021),\n",
    "    (883, 989),\n",
    "    (920, 928),\n",
    "    (978, 965),\n",
    "    (973, 897),\n",
    "]\n",
    "len(a)"
   ]
  },
  {
   "cell_type": "code",
   "execution_count": 2,
   "metadata": {},
   "outputs": [
    {
     "name": "stdout",
     "output_type": "stream",
     "text": [
      "[(36, -54), (34, -127), (96, -90), (129, -31), (67, 2), (131, 38), (92, 94), (34, 59), (36, 128), (-32, 130), (-31, 60), (-89, 97), (-127, 35), (-65, 0), (-127, -32), (-90, -93), (-32, -56), (-37, -124)]\n"
     ]
    }
   ],
   "source": [
    "b=[]\n",
    "for item in a:\n",
    "    x_offset = item[0] - meio[0]\n",
    "    y_offset = item[1] - meio[1]\n",
    "    b.append((x_offset, y_offset))\n",
    "print(b)"
   ]
  }
 ],
 "metadata": {
  "kernelspec": {
   "display_name": "base",
   "language": "python",
   "name": "python3"
  },
  "language_info": {
   "codemirror_mode": {
    "name": "ipython",
    "version": 3
   },
   "file_extension": ".py",
   "mimetype": "text/x-python",
   "name": "python",
   "nbconvert_exporter": "python",
   "pygments_lexer": "ipython3",
   "version": "3.12.3"
  }
 },
 "nbformat": 4,
 "nbformat_minor": 2
}
